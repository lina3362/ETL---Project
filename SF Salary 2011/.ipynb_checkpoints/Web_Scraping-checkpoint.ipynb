{
 "cells": [
  {
   "cell_type": "markdown",
   "metadata": {
    "slideshow": {
     "slide_type": "slide"
    }
   },
   "source": [
    "# Scraping with Pandas"
   ]
  },
  {
   "cell_type": "code",
   "execution_count": 1,
   "metadata": {
    "slideshow": {
     "slide_type": "slide"
    }
   },
   "outputs": [],
   "source": [
    "import pandas as pd"
   ]
  },
  {
   "cell_type": "markdown",
   "metadata": {
    "slideshow": {
     "slide_type": "subslide"
    }
   },
   "source": [
    "We can use the `read_html` function in Pandas to automatically scrape any tabular data from a page."
   ]
  },
  {
   "cell_type": "code",
   "execution_count": 2,
   "metadata": {
    "slideshow": {
     "slide_type": "fragment"
    }
   },
   "outputs": [],
   "source": [
    "url = 'https://transparentcalifornia.com/salaries/2011/san-francisco/job_title_summary/'"
   ]
  },
  {
   "cell_type": "code",
   "execution_count": 3,
   "metadata": {
    "slideshow": {
     "slide_type": "fragment"
    }
   },
   "outputs": [
    {
     "ename": "HTTPError",
     "evalue": "HTTP Error 403: Forbidden",
     "output_type": "error",
     "traceback": [
      "\u001b[1;31m---------------------------------------------------------------------------\u001b[0m",
      "\u001b[1;31mHTTPError\u001b[0m                                 Traceback (most recent call last)",
      "\u001b[1;32m<ipython-input-3-03630a51bf39>\u001b[0m in \u001b[0;36m<module>\u001b[1;34m\u001b[0m\n\u001b[1;32m----> 1\u001b[1;33m \u001b[0mtables\u001b[0m \u001b[1;33m=\u001b[0m \u001b[0mpd\u001b[0m\u001b[1;33m.\u001b[0m\u001b[0mread_html\u001b[0m\u001b[1;33m(\u001b[0m\u001b[0murl\u001b[0m\u001b[1;33m)\u001b[0m\u001b[1;33m\u001b[0m\u001b[1;33m\u001b[0m\u001b[0m\n\u001b[0m\u001b[0;32m      2\u001b[0m \u001b[0mtables\u001b[0m\u001b[1;33m\u001b[0m\u001b[1;33m\u001b[0m\u001b[0m\n",
      "\u001b[1;32m~\\.conda\\envs\\PythonData\\lib\\site-packages\\pandas\\util\\_decorators.py\u001b[0m in \u001b[0;36mwrapper\u001b[1;34m(*args, **kwargs)\u001b[0m\n\u001b[0;32m    294\u001b[0m                 )\n\u001b[0;32m    295\u001b[0m                 \u001b[0mwarnings\u001b[0m\u001b[1;33m.\u001b[0m\u001b[0mwarn\u001b[0m\u001b[1;33m(\u001b[0m\u001b[0mmsg\u001b[0m\u001b[1;33m,\u001b[0m \u001b[0mFutureWarning\u001b[0m\u001b[1;33m,\u001b[0m \u001b[0mstacklevel\u001b[0m\u001b[1;33m=\u001b[0m\u001b[0mstacklevel\u001b[0m\u001b[1;33m)\u001b[0m\u001b[1;33m\u001b[0m\u001b[1;33m\u001b[0m\u001b[0m\n\u001b[1;32m--> 296\u001b[1;33m             \u001b[1;32mreturn\u001b[0m \u001b[0mfunc\u001b[0m\u001b[1;33m(\u001b[0m\u001b[1;33m*\u001b[0m\u001b[0margs\u001b[0m\u001b[1;33m,\u001b[0m \u001b[1;33m**\u001b[0m\u001b[0mkwargs\u001b[0m\u001b[1;33m)\u001b[0m\u001b[1;33m\u001b[0m\u001b[1;33m\u001b[0m\u001b[0m\n\u001b[0m\u001b[0;32m    297\u001b[0m \u001b[1;33m\u001b[0m\u001b[0m\n\u001b[0;32m    298\u001b[0m         \u001b[1;32mreturn\u001b[0m \u001b[0mwrapper\u001b[0m\u001b[1;33m\u001b[0m\u001b[1;33m\u001b[0m\u001b[0m\n",
      "\u001b[1;32m~\\.conda\\envs\\PythonData\\lib\\site-packages\\pandas\\io\\html.py\u001b[0m in \u001b[0;36mread_html\u001b[1;34m(io, match, flavor, header, index_col, skiprows, attrs, parse_dates, thousands, encoding, decimal, converters, na_values, keep_default_na, displayed_only)\u001b[0m\n\u001b[0;32m   1099\u001b[0m         \u001b[0mna_values\u001b[0m\u001b[1;33m=\u001b[0m\u001b[0mna_values\u001b[0m\u001b[1;33m,\u001b[0m\u001b[1;33m\u001b[0m\u001b[1;33m\u001b[0m\u001b[0m\n\u001b[0;32m   1100\u001b[0m         \u001b[0mkeep_default_na\u001b[0m\u001b[1;33m=\u001b[0m\u001b[0mkeep_default_na\u001b[0m\u001b[1;33m,\u001b[0m\u001b[1;33m\u001b[0m\u001b[1;33m\u001b[0m\u001b[0m\n\u001b[1;32m-> 1101\u001b[1;33m         \u001b[0mdisplayed_only\u001b[0m\u001b[1;33m=\u001b[0m\u001b[0mdisplayed_only\u001b[0m\u001b[1;33m,\u001b[0m\u001b[1;33m\u001b[0m\u001b[1;33m\u001b[0m\u001b[0m\n\u001b[0m\u001b[0;32m   1102\u001b[0m     )\n",
      "\u001b[1;32m~\\.conda\\envs\\PythonData\\lib\\site-packages\\pandas\\io\\html.py\u001b[0m in \u001b[0;36m_parse\u001b[1;34m(flavor, io, match, attrs, encoding, displayed_only, **kwargs)\u001b[0m\n\u001b[0;32m    896\u001b[0m \u001b[1;33m\u001b[0m\u001b[0m\n\u001b[0;32m    897\u001b[0m         \u001b[1;32mtry\u001b[0m\u001b[1;33m:\u001b[0m\u001b[1;33m\u001b[0m\u001b[1;33m\u001b[0m\u001b[0m\n\u001b[1;32m--> 898\u001b[1;33m             \u001b[0mtables\u001b[0m \u001b[1;33m=\u001b[0m \u001b[0mp\u001b[0m\u001b[1;33m.\u001b[0m\u001b[0mparse_tables\u001b[0m\u001b[1;33m(\u001b[0m\u001b[1;33m)\u001b[0m\u001b[1;33m\u001b[0m\u001b[1;33m\u001b[0m\u001b[0m\n\u001b[0m\u001b[0;32m    899\u001b[0m         \u001b[1;32mexcept\u001b[0m \u001b[0mValueError\u001b[0m \u001b[1;32mas\u001b[0m \u001b[0mcaught\u001b[0m\u001b[1;33m:\u001b[0m\u001b[1;33m\u001b[0m\u001b[1;33m\u001b[0m\u001b[0m\n\u001b[0;32m    900\u001b[0m             \u001b[1;31m# if `io` is an io-like object, check if it's seekable\u001b[0m\u001b[1;33m\u001b[0m\u001b[1;33m\u001b[0m\u001b[1;33m\u001b[0m\u001b[0m\n",
      "\u001b[1;32m~\\.conda\\envs\\PythonData\\lib\\site-packages\\pandas\\io\\html.py\u001b[0m in \u001b[0;36mparse_tables\u001b[1;34m(self)\u001b[0m\n\u001b[0;32m    215\u001b[0m         \u001b[0mlist\u001b[0m \u001b[0mof\u001b[0m \u001b[0mparsed\u001b[0m \u001b[1;33m(\u001b[0m\u001b[0mheader\u001b[0m\u001b[1;33m,\u001b[0m \u001b[0mbody\u001b[0m\u001b[1;33m,\u001b[0m \u001b[0mfooter\u001b[0m\u001b[1;33m)\u001b[0m \u001b[0mtuples\u001b[0m \u001b[1;32mfrom\u001b[0m \u001b[0mtables\u001b[0m\u001b[1;33m.\u001b[0m\u001b[1;33m\u001b[0m\u001b[1;33m\u001b[0m\u001b[0m\n\u001b[0;32m    216\u001b[0m         \"\"\"\n\u001b[1;32m--> 217\u001b[1;33m         \u001b[0mtables\u001b[0m \u001b[1;33m=\u001b[0m \u001b[0mself\u001b[0m\u001b[1;33m.\u001b[0m\u001b[0m_parse_tables\u001b[0m\u001b[1;33m(\u001b[0m\u001b[0mself\u001b[0m\u001b[1;33m.\u001b[0m\u001b[0m_build_doc\u001b[0m\u001b[1;33m(\u001b[0m\u001b[1;33m)\u001b[0m\u001b[1;33m,\u001b[0m \u001b[0mself\u001b[0m\u001b[1;33m.\u001b[0m\u001b[0mmatch\u001b[0m\u001b[1;33m,\u001b[0m \u001b[0mself\u001b[0m\u001b[1;33m.\u001b[0m\u001b[0mattrs\u001b[0m\u001b[1;33m)\u001b[0m\u001b[1;33m\u001b[0m\u001b[1;33m\u001b[0m\u001b[0m\n\u001b[0m\u001b[0;32m    218\u001b[0m         \u001b[1;32mreturn\u001b[0m \u001b[1;33m(\u001b[0m\u001b[0mself\u001b[0m\u001b[1;33m.\u001b[0m\u001b[0m_parse_thead_tbody_tfoot\u001b[0m\u001b[1;33m(\u001b[0m\u001b[0mtable\u001b[0m\u001b[1;33m)\u001b[0m \u001b[1;32mfor\u001b[0m \u001b[0mtable\u001b[0m \u001b[1;32min\u001b[0m \u001b[0mtables\u001b[0m\u001b[1;33m)\u001b[0m\u001b[1;33m\u001b[0m\u001b[1;33m\u001b[0m\u001b[0m\n\u001b[0;32m    219\u001b[0m \u001b[1;33m\u001b[0m\u001b[0m\n",
      "\u001b[1;32m~\\.conda\\envs\\PythonData\\lib\\site-packages\\pandas\\io\\html.py\u001b[0m in \u001b[0;36m_build_doc\u001b[1;34m(self)\u001b[0m\n\u001b[0;32m    734\u001b[0m                     \u001b[1;32mpass\u001b[0m\u001b[1;33m\u001b[0m\u001b[1;33m\u001b[0m\u001b[0m\n\u001b[0;32m    735\u001b[0m             \u001b[1;32melse\u001b[0m\u001b[1;33m:\u001b[0m\u001b[1;33m\u001b[0m\u001b[1;33m\u001b[0m\u001b[0m\n\u001b[1;32m--> 736\u001b[1;33m                 \u001b[1;32mraise\u001b[0m \u001b[0me\u001b[0m\u001b[1;33m\u001b[0m\u001b[1;33m\u001b[0m\u001b[0m\n\u001b[0m\u001b[0;32m    737\u001b[0m         \u001b[1;32melse\u001b[0m\u001b[1;33m:\u001b[0m\u001b[1;33m\u001b[0m\u001b[1;33m\u001b[0m\u001b[0m\n\u001b[0;32m    738\u001b[0m             \u001b[1;32mif\u001b[0m \u001b[1;32mnot\u001b[0m \u001b[0mhasattr\u001b[0m\u001b[1;33m(\u001b[0m\u001b[0mr\u001b[0m\u001b[1;33m,\u001b[0m \u001b[1;34m\"text_content\"\u001b[0m\u001b[1;33m)\u001b[0m\u001b[1;33m:\u001b[0m\u001b[1;33m\u001b[0m\u001b[1;33m\u001b[0m\u001b[0m\n",
      "\u001b[1;32m~\\.conda\\envs\\PythonData\\lib\\site-packages\\pandas\\io\\html.py\u001b[0m in \u001b[0;36m_build_doc\u001b[1;34m(self)\u001b[0m\n\u001b[0;32m    715\u001b[0m         \u001b[1;32mtry\u001b[0m\u001b[1;33m:\u001b[0m\u001b[1;33m\u001b[0m\u001b[1;33m\u001b[0m\u001b[0m\n\u001b[0;32m    716\u001b[0m             \u001b[1;32mif\u001b[0m \u001b[0mis_url\u001b[0m\u001b[1;33m(\u001b[0m\u001b[0mself\u001b[0m\u001b[1;33m.\u001b[0m\u001b[0mio\u001b[0m\u001b[1;33m)\u001b[0m\u001b[1;33m:\u001b[0m\u001b[1;33m\u001b[0m\u001b[1;33m\u001b[0m\u001b[0m\n\u001b[1;32m--> 717\u001b[1;33m                 \u001b[1;32mwith\u001b[0m \u001b[0murlopen\u001b[0m\u001b[1;33m(\u001b[0m\u001b[0mself\u001b[0m\u001b[1;33m.\u001b[0m\u001b[0mio\u001b[0m\u001b[1;33m)\u001b[0m \u001b[1;32mas\u001b[0m \u001b[0mf\u001b[0m\u001b[1;33m:\u001b[0m\u001b[1;33m\u001b[0m\u001b[1;33m\u001b[0m\u001b[0m\n\u001b[0m\u001b[0;32m    718\u001b[0m                     \u001b[0mr\u001b[0m \u001b[1;33m=\u001b[0m \u001b[0mparse\u001b[0m\u001b[1;33m(\u001b[0m\u001b[0mf\u001b[0m\u001b[1;33m,\u001b[0m \u001b[0mparser\u001b[0m\u001b[1;33m=\u001b[0m\u001b[0mparser\u001b[0m\u001b[1;33m)\u001b[0m\u001b[1;33m\u001b[0m\u001b[1;33m\u001b[0m\u001b[0m\n\u001b[0;32m    719\u001b[0m             \u001b[1;32melse\u001b[0m\u001b[1;33m:\u001b[0m\u001b[1;33m\u001b[0m\u001b[1;33m\u001b[0m\u001b[0m\n",
      "\u001b[1;32m~\\.conda\\envs\\PythonData\\lib\\site-packages\\pandas\\io\\common.py\u001b[0m in \u001b[0;36murlopen\u001b[1;34m(*args, **kwargs)\u001b[0m\n\u001b[0;32m    135\u001b[0m     \u001b[1;32mimport\u001b[0m \u001b[0murllib\u001b[0m\u001b[1;33m.\u001b[0m\u001b[0mrequest\u001b[0m\u001b[1;33m\u001b[0m\u001b[1;33m\u001b[0m\u001b[0m\n\u001b[0;32m    136\u001b[0m \u001b[1;33m\u001b[0m\u001b[0m\n\u001b[1;32m--> 137\u001b[1;33m     \u001b[1;32mreturn\u001b[0m \u001b[0murllib\u001b[0m\u001b[1;33m.\u001b[0m\u001b[0mrequest\u001b[0m\u001b[1;33m.\u001b[0m\u001b[0murlopen\u001b[0m\u001b[1;33m(\u001b[0m\u001b[1;33m*\u001b[0m\u001b[0margs\u001b[0m\u001b[1;33m,\u001b[0m \u001b[1;33m**\u001b[0m\u001b[0mkwargs\u001b[0m\u001b[1;33m)\u001b[0m\u001b[1;33m\u001b[0m\u001b[1;33m\u001b[0m\u001b[0m\n\u001b[0m\u001b[0;32m    138\u001b[0m \u001b[1;33m\u001b[0m\u001b[0m\n\u001b[0;32m    139\u001b[0m \u001b[1;33m\u001b[0m\u001b[0m\n",
      "\u001b[1;32m~\\.conda\\envs\\PythonData\\lib\\urllib\\request.py\u001b[0m in \u001b[0;36murlopen\u001b[1;34m(url, data, timeout, cafile, capath, cadefault, context)\u001b[0m\n\u001b[0;32m    220\u001b[0m     \u001b[1;32melse\u001b[0m\u001b[1;33m:\u001b[0m\u001b[1;33m\u001b[0m\u001b[1;33m\u001b[0m\u001b[0m\n\u001b[0;32m    221\u001b[0m         \u001b[0mopener\u001b[0m \u001b[1;33m=\u001b[0m \u001b[0m_opener\u001b[0m\u001b[1;33m\u001b[0m\u001b[1;33m\u001b[0m\u001b[0m\n\u001b[1;32m--> 222\u001b[1;33m     \u001b[1;32mreturn\u001b[0m \u001b[0mopener\u001b[0m\u001b[1;33m.\u001b[0m\u001b[0mopen\u001b[0m\u001b[1;33m(\u001b[0m\u001b[0murl\u001b[0m\u001b[1;33m,\u001b[0m \u001b[0mdata\u001b[0m\u001b[1;33m,\u001b[0m \u001b[0mtimeout\u001b[0m\u001b[1;33m)\u001b[0m\u001b[1;33m\u001b[0m\u001b[1;33m\u001b[0m\u001b[0m\n\u001b[0m\u001b[0;32m    223\u001b[0m \u001b[1;33m\u001b[0m\u001b[0m\n\u001b[0;32m    224\u001b[0m \u001b[1;32mdef\u001b[0m \u001b[0minstall_opener\u001b[0m\u001b[1;33m(\u001b[0m\u001b[0mopener\u001b[0m\u001b[1;33m)\u001b[0m\u001b[1;33m:\u001b[0m\u001b[1;33m\u001b[0m\u001b[1;33m\u001b[0m\u001b[0m\n",
      "\u001b[1;32m~\\.conda\\envs\\PythonData\\lib\\urllib\\request.py\u001b[0m in \u001b[0;36mopen\u001b[1;34m(self, fullurl, data, timeout)\u001b[0m\n\u001b[0;32m    529\u001b[0m         \u001b[1;32mfor\u001b[0m \u001b[0mprocessor\u001b[0m \u001b[1;32min\u001b[0m \u001b[0mself\u001b[0m\u001b[1;33m.\u001b[0m\u001b[0mprocess_response\u001b[0m\u001b[1;33m.\u001b[0m\u001b[0mget\u001b[0m\u001b[1;33m(\u001b[0m\u001b[0mprotocol\u001b[0m\u001b[1;33m,\u001b[0m \u001b[1;33m[\u001b[0m\u001b[1;33m]\u001b[0m\u001b[1;33m)\u001b[0m\u001b[1;33m:\u001b[0m\u001b[1;33m\u001b[0m\u001b[1;33m\u001b[0m\u001b[0m\n\u001b[0;32m    530\u001b[0m             \u001b[0mmeth\u001b[0m \u001b[1;33m=\u001b[0m \u001b[0mgetattr\u001b[0m\u001b[1;33m(\u001b[0m\u001b[0mprocessor\u001b[0m\u001b[1;33m,\u001b[0m \u001b[0mmeth_name\u001b[0m\u001b[1;33m)\u001b[0m\u001b[1;33m\u001b[0m\u001b[1;33m\u001b[0m\u001b[0m\n\u001b[1;32m--> 531\u001b[1;33m             \u001b[0mresponse\u001b[0m \u001b[1;33m=\u001b[0m \u001b[0mmeth\u001b[0m\u001b[1;33m(\u001b[0m\u001b[0mreq\u001b[0m\u001b[1;33m,\u001b[0m \u001b[0mresponse\u001b[0m\u001b[1;33m)\u001b[0m\u001b[1;33m\u001b[0m\u001b[1;33m\u001b[0m\u001b[0m\n\u001b[0m\u001b[0;32m    532\u001b[0m \u001b[1;33m\u001b[0m\u001b[0m\n\u001b[0;32m    533\u001b[0m         \u001b[1;32mreturn\u001b[0m \u001b[0mresponse\u001b[0m\u001b[1;33m\u001b[0m\u001b[1;33m\u001b[0m\u001b[0m\n",
      "\u001b[1;32m~\\.conda\\envs\\PythonData\\lib\\urllib\\request.py\u001b[0m in \u001b[0;36mhttp_response\u001b[1;34m(self, request, response)\u001b[0m\n\u001b[0;32m    639\u001b[0m         \u001b[1;32mif\u001b[0m \u001b[1;32mnot\u001b[0m \u001b[1;33m(\u001b[0m\u001b[1;36m200\u001b[0m \u001b[1;33m<=\u001b[0m \u001b[0mcode\u001b[0m \u001b[1;33m<\u001b[0m \u001b[1;36m300\u001b[0m\u001b[1;33m)\u001b[0m\u001b[1;33m:\u001b[0m\u001b[1;33m\u001b[0m\u001b[1;33m\u001b[0m\u001b[0m\n\u001b[0;32m    640\u001b[0m             response = self.parent.error(\n\u001b[1;32m--> 641\u001b[1;33m                 'http', request, response, code, msg, hdrs)\n\u001b[0m\u001b[0;32m    642\u001b[0m \u001b[1;33m\u001b[0m\u001b[0m\n\u001b[0;32m    643\u001b[0m         \u001b[1;32mreturn\u001b[0m \u001b[0mresponse\u001b[0m\u001b[1;33m\u001b[0m\u001b[1;33m\u001b[0m\u001b[0m\n",
      "\u001b[1;32m~\\.conda\\envs\\PythonData\\lib\\urllib\\request.py\u001b[0m in \u001b[0;36merror\u001b[1;34m(self, proto, *args)\u001b[0m\n\u001b[0;32m    567\u001b[0m         \u001b[1;32mif\u001b[0m \u001b[0mhttp_err\u001b[0m\u001b[1;33m:\u001b[0m\u001b[1;33m\u001b[0m\u001b[1;33m\u001b[0m\u001b[0m\n\u001b[0;32m    568\u001b[0m             \u001b[0margs\u001b[0m \u001b[1;33m=\u001b[0m \u001b[1;33m(\u001b[0m\u001b[0mdict\u001b[0m\u001b[1;33m,\u001b[0m \u001b[1;34m'default'\u001b[0m\u001b[1;33m,\u001b[0m \u001b[1;34m'http_error_default'\u001b[0m\u001b[1;33m)\u001b[0m \u001b[1;33m+\u001b[0m \u001b[0morig_args\u001b[0m\u001b[1;33m\u001b[0m\u001b[1;33m\u001b[0m\u001b[0m\n\u001b[1;32m--> 569\u001b[1;33m             \u001b[1;32mreturn\u001b[0m \u001b[0mself\u001b[0m\u001b[1;33m.\u001b[0m\u001b[0m_call_chain\u001b[0m\u001b[1;33m(\u001b[0m\u001b[1;33m*\u001b[0m\u001b[0margs\u001b[0m\u001b[1;33m)\u001b[0m\u001b[1;33m\u001b[0m\u001b[1;33m\u001b[0m\u001b[0m\n\u001b[0m\u001b[0;32m    570\u001b[0m \u001b[1;33m\u001b[0m\u001b[0m\n\u001b[0;32m    571\u001b[0m \u001b[1;31m# XXX probably also want an abstract factory that knows when it makes\u001b[0m\u001b[1;33m\u001b[0m\u001b[1;33m\u001b[0m\u001b[1;33m\u001b[0m\u001b[0m\n",
      "\u001b[1;32m~\\.conda\\envs\\PythonData\\lib\\urllib\\request.py\u001b[0m in \u001b[0;36m_call_chain\u001b[1;34m(self, chain, kind, meth_name, *args)\u001b[0m\n\u001b[0;32m    501\u001b[0m         \u001b[1;32mfor\u001b[0m \u001b[0mhandler\u001b[0m \u001b[1;32min\u001b[0m \u001b[0mhandlers\u001b[0m\u001b[1;33m:\u001b[0m\u001b[1;33m\u001b[0m\u001b[1;33m\u001b[0m\u001b[0m\n\u001b[0;32m    502\u001b[0m             \u001b[0mfunc\u001b[0m \u001b[1;33m=\u001b[0m \u001b[0mgetattr\u001b[0m\u001b[1;33m(\u001b[0m\u001b[0mhandler\u001b[0m\u001b[1;33m,\u001b[0m \u001b[0mmeth_name\u001b[0m\u001b[1;33m)\u001b[0m\u001b[1;33m\u001b[0m\u001b[1;33m\u001b[0m\u001b[0m\n\u001b[1;32m--> 503\u001b[1;33m             \u001b[0mresult\u001b[0m \u001b[1;33m=\u001b[0m \u001b[0mfunc\u001b[0m\u001b[1;33m(\u001b[0m\u001b[1;33m*\u001b[0m\u001b[0margs\u001b[0m\u001b[1;33m)\u001b[0m\u001b[1;33m\u001b[0m\u001b[1;33m\u001b[0m\u001b[0m\n\u001b[0m\u001b[0;32m    504\u001b[0m             \u001b[1;32mif\u001b[0m \u001b[0mresult\u001b[0m \u001b[1;32mis\u001b[0m \u001b[1;32mnot\u001b[0m \u001b[1;32mNone\u001b[0m\u001b[1;33m:\u001b[0m\u001b[1;33m\u001b[0m\u001b[1;33m\u001b[0m\u001b[0m\n\u001b[0;32m    505\u001b[0m                 \u001b[1;32mreturn\u001b[0m \u001b[0mresult\u001b[0m\u001b[1;33m\u001b[0m\u001b[1;33m\u001b[0m\u001b[0m\n",
      "\u001b[1;32m~\\.conda\\envs\\PythonData\\lib\\urllib\\request.py\u001b[0m in \u001b[0;36mhttp_error_default\u001b[1;34m(self, req, fp, code, msg, hdrs)\u001b[0m\n\u001b[0;32m    647\u001b[0m \u001b[1;32mclass\u001b[0m \u001b[0mHTTPDefaultErrorHandler\u001b[0m\u001b[1;33m(\u001b[0m\u001b[0mBaseHandler\u001b[0m\u001b[1;33m)\u001b[0m\u001b[1;33m:\u001b[0m\u001b[1;33m\u001b[0m\u001b[1;33m\u001b[0m\u001b[0m\n\u001b[0;32m    648\u001b[0m     \u001b[1;32mdef\u001b[0m \u001b[0mhttp_error_default\u001b[0m\u001b[1;33m(\u001b[0m\u001b[0mself\u001b[0m\u001b[1;33m,\u001b[0m \u001b[0mreq\u001b[0m\u001b[1;33m,\u001b[0m \u001b[0mfp\u001b[0m\u001b[1;33m,\u001b[0m \u001b[0mcode\u001b[0m\u001b[1;33m,\u001b[0m \u001b[0mmsg\u001b[0m\u001b[1;33m,\u001b[0m \u001b[0mhdrs\u001b[0m\u001b[1;33m)\u001b[0m\u001b[1;33m:\u001b[0m\u001b[1;33m\u001b[0m\u001b[1;33m\u001b[0m\u001b[0m\n\u001b[1;32m--> 649\u001b[1;33m         \u001b[1;32mraise\u001b[0m \u001b[0mHTTPError\u001b[0m\u001b[1;33m(\u001b[0m\u001b[0mreq\u001b[0m\u001b[1;33m.\u001b[0m\u001b[0mfull_url\u001b[0m\u001b[1;33m,\u001b[0m \u001b[0mcode\u001b[0m\u001b[1;33m,\u001b[0m \u001b[0mmsg\u001b[0m\u001b[1;33m,\u001b[0m \u001b[0mhdrs\u001b[0m\u001b[1;33m,\u001b[0m \u001b[0mfp\u001b[0m\u001b[1;33m)\u001b[0m\u001b[1;33m\u001b[0m\u001b[1;33m\u001b[0m\u001b[0m\n\u001b[0m\u001b[0;32m    650\u001b[0m \u001b[1;33m\u001b[0m\u001b[0m\n\u001b[0;32m    651\u001b[0m \u001b[1;32mclass\u001b[0m \u001b[0mHTTPRedirectHandler\u001b[0m\u001b[1;33m(\u001b[0m\u001b[0mBaseHandler\u001b[0m\u001b[1;33m)\u001b[0m\u001b[1;33m:\u001b[0m\u001b[1;33m\u001b[0m\u001b[1;33m\u001b[0m\u001b[0m\n",
      "\u001b[1;31mHTTPError\u001b[0m: HTTP Error 403: Forbidden"
     ]
    }
   ],
   "source": [
    "tables = pd.read_html(url)\n",
    "tables"
   ]
  },
  {
   "cell_type": "markdown",
   "metadata": {
    "slideshow": {
     "slide_type": "subslide"
    }
   },
   "source": [
    "#### What we get in return is a list of dataframes for any tabular data that Pandas found."
   ]
  },
  {
   "cell_type": "code",
   "execution_count": 4,
   "metadata": {
    "slideshow": {
     "slide_type": "fragment"
    }
   },
   "outputs": [
    {
     "data": {
      "text/plain": [
       "list"
      ]
     },
     "execution_count": 4,
     "metadata": {},
     "output_type": "execute_result"
    }
   ],
   "source": [
    "type(tables)"
   ]
  },
  {
   "cell_type": "markdown",
   "metadata": {
    "slideshow": {
     "slide_type": "subslide"
    }
   },
   "source": [
    "#### We can slice off any of those dataframes that we want using normal indexing."
   ]
  },
  {
   "cell_type": "code",
   "execution_count": 5,
   "metadata": {
    "slideshow": {
     "slide_type": "fragment"
    }
   },
   "outputs": [
    {
     "data": {
      "text/html": [
       "<div>\n",
       "<style scoped>\n",
       "    .dataframe tbody tr th:only-of-type {\n",
       "        vertical-align: middle;\n",
       "    }\n",
       "\n",
       "    .dataframe tbody tr th {\n",
       "        vertical-align: top;\n",
       "    }\n",
       "\n",
       "    .dataframe thead tr th {\n",
       "        text-align: left;\n",
       "    }\n",
       "</style>\n",
       "<table border=\"1\" class=\"dataframe\">\n",
       "  <thead>\n",
       "    <tr>\n",
       "      <th></th>\n",
       "      <th>City</th>\n",
       "      <th>Building</th>\n",
       "      <th>Start Date</th>\n",
       "      <th>End Date</th>\n",
       "      <th>Duration</th>\n",
       "      <th>Ref</th>\n",
       "    </tr>\n",
       "    <tr>\n",
       "      <th></th>\n",
       "      <th>Albany Congress</th>\n",
       "      <th>Albany Congress</th>\n",
       "      <th>Albany Congress</th>\n",
       "      <th>Albany Congress</th>\n",
       "      <th>Albany Congress</th>\n",
       "      <th>Albany Congress</th>\n",
       "    </tr>\n",
       "  </thead>\n",
       "  <tbody>\n",
       "    <tr>\n",
       "      <th>0</th>\n",
       "      <td>Albany, New York</td>\n",
       "      <td>Stadt Huys</td>\n",
       "      <td>June 19, 1754</td>\n",
       "      <td>July 11, 1754</td>\n",
       "      <td>22 days</td>\n",
       "      <td>[8]</td>\n",
       "    </tr>\n",
       "    <tr>\n",
       "      <th>1</th>\n",
       "      <td>Stamp Act Congress</td>\n",
       "      <td>Stamp Act Congress</td>\n",
       "      <td>Stamp Act Congress</td>\n",
       "      <td>Stamp Act Congress</td>\n",
       "      <td>Stamp Act Congress</td>\n",
       "      <td>Stamp Act Congress</td>\n",
       "    </tr>\n",
       "    <tr>\n",
       "      <th>2</th>\n",
       "      <td>New York, New York</td>\n",
       "      <td>City Hall</td>\n",
       "      <td>October 7, 1765</td>\n",
       "      <td>October 25, 1765</td>\n",
       "      <td>23 days</td>\n",
       "      <td>[9]</td>\n",
       "    </tr>\n",
       "    <tr>\n",
       "      <th>3</th>\n",
       "      <td>First Continental Congress</td>\n",
       "      <td>First Continental Congress</td>\n",
       "      <td>First Continental Congress</td>\n",
       "      <td>First Continental Congress</td>\n",
       "      <td>First Continental Congress</td>\n",
       "      <td>First Continental Congress</td>\n",
       "    </tr>\n",
       "    <tr>\n",
       "      <th>4</th>\n",
       "      <td>Philadelphia, Pennsylvania</td>\n",
       "      <td>Carpenters' Hall</td>\n",
       "      <td>September 5, 1774</td>\n",
       "      <td>October 26, 1774</td>\n",
       "      <td>1 month and 21 days</td>\n",
       "      <td>[10]</td>\n",
       "    </tr>\n",
       "  </tbody>\n",
       "</table>\n",
       "</div>"
      ],
      "text/plain": [
       "                         City                    Building  \\\n",
       "              Albany Congress             Albany Congress   \n",
       "0            Albany, New York                  Stadt Huys   \n",
       "1          Stamp Act Congress          Stamp Act Congress   \n",
       "2          New York, New York                   City Hall   \n",
       "3  First Continental Congress  First Continental Congress   \n",
       "4  Philadelphia, Pennsylvania            Carpenters' Hall   \n",
       "\n",
       "                   Start Date                    End Date  \\\n",
       "              Albany Congress             Albany Congress   \n",
       "0               June 19, 1754               July 11, 1754   \n",
       "1          Stamp Act Congress          Stamp Act Congress   \n",
       "2             October 7, 1765            October 25, 1765   \n",
       "3  First Continental Congress  First Continental Congress   \n",
       "4           September 5, 1774            October 26, 1774   \n",
       "\n",
       "                     Duration                         Ref  \n",
       "              Albany Congress             Albany Congress  \n",
       "0                     22 days                         [8]  \n",
       "1          Stamp Act Congress          Stamp Act Congress  \n",
       "2                     23 days                         [9]  \n",
       "3  First Continental Congress  First Continental Congress  \n",
       "4         1 month and 21 days                        [10]  "
      ]
     },
     "execution_count": 5,
     "metadata": {},
     "output_type": "execute_result"
    }
   ],
   "source": [
    "df = tables[0]\n",
    "df.head()"
   ]
  },
  {
   "cell_type": "markdown",
   "metadata": {
    "slideshow": {
     "slide_type": "subslide"
    }
   },
   "source": [
    "#### Drop all single header rows"
   ]
  },
  {
   "cell_type": "code",
   "execution_count": 6,
   "metadata": {
    "slideshow": {
     "slide_type": "fragment"
    }
   },
   "outputs": [
    {
     "data": {
      "text/html": [
       "<div>\n",
       "<style scoped>\n",
       "    .dataframe tbody tr th:only-of-type {\n",
       "        vertical-align: middle;\n",
       "    }\n",
       "\n",
       "    .dataframe tbody tr th {\n",
       "        vertical-align: top;\n",
       "    }\n",
       "\n",
       "    .dataframe thead th {\n",
       "        text-align: right;\n",
       "    }\n",
       "</style>\n",
       "<table border=\"1\" class=\"dataframe\">\n",
       "  <thead>\n",
       "    <tr style=\"text-align: right;\">\n",
       "      <th></th>\n",
       "      <th>City</th>\n",
       "      <th>Building</th>\n",
       "      <th>Start Date</th>\n",
       "      <th>End Date</th>\n",
       "      <th>Duration</th>\n",
       "      <th>Ref</th>\n",
       "    </tr>\n",
       "  </thead>\n",
       "  <tbody>\n",
       "    <tr>\n",
       "      <th>0</th>\n",
       "      <td>Albany, New York</td>\n",
       "      <td>Stadt Huys</td>\n",
       "      <td>June 19, 1754</td>\n",
       "      <td>July 11, 1754</td>\n",
       "      <td>22 days</td>\n",
       "      <td>[8]</td>\n",
       "    </tr>\n",
       "    <tr>\n",
       "      <th>2</th>\n",
       "      <td>New York, New York</td>\n",
       "      <td>City Hall</td>\n",
       "      <td>October 7, 1765</td>\n",
       "      <td>October 25, 1765</td>\n",
       "      <td>23 days</td>\n",
       "      <td>[9]</td>\n",
       "    </tr>\n",
       "    <tr>\n",
       "      <th>4</th>\n",
       "      <td>Philadelphia, Pennsylvania</td>\n",
       "      <td>Carpenters' Hall</td>\n",
       "      <td>September 5, 1774</td>\n",
       "      <td>October 26, 1774</td>\n",
       "      <td>1 month and 21 days</td>\n",
       "      <td>[10]</td>\n",
       "    </tr>\n",
       "    <tr>\n",
       "      <th>6</th>\n",
       "      <td>Philadelphia, Pennsylvania</td>\n",
       "      <td>Independence Hall</td>\n",
       "      <td>May 10, 1775</td>\n",
       "      <td>December 12, 1776</td>\n",
       "      <td>1 year, 7 months and 2 days</td>\n",
       "      <td>[11]</td>\n",
       "    </tr>\n",
       "    <tr>\n",
       "      <th>7</th>\n",
       "      <td>Baltimore, Maryland</td>\n",
       "      <td>Henry Fite House</td>\n",
       "      <td>December 20, 1776</td>\n",
       "      <td>February 27, 1777</td>\n",
       "      <td>2 months and 7 days</td>\n",
       "      <td>[12]</td>\n",
       "    </tr>\n",
       "  </tbody>\n",
       "</table>\n",
       "</div>"
      ],
      "text/plain": [
       "                         City           Building         Start Date  \\\n",
       "0            Albany, New York         Stadt Huys      June 19, 1754   \n",
       "2          New York, New York          City Hall    October 7, 1765   \n",
       "4  Philadelphia, Pennsylvania   Carpenters' Hall  September 5, 1774   \n",
       "6  Philadelphia, Pennsylvania  Independence Hall       May 10, 1775   \n",
       "7         Baltimore, Maryland   Henry Fite House  December 20, 1776   \n",
       "\n",
       "            End Date                     Duration   Ref  \n",
       "0      July 11, 1754                      22 days   [8]  \n",
       "2   October 25, 1765                      23 days   [9]  \n",
       "4   October 26, 1774          1 month and 21 days  [10]  \n",
       "6  December 12, 1776  1 year, 7 months and 2 days  [11]  \n",
       "7  February 27, 1777          2 months and 7 days  [12]  "
      ]
     },
     "execution_count": 6,
     "metadata": {},
     "output_type": "execute_result"
    }
   ],
   "source": [
    "df.columns = df.columns.get_level_values(0)\n",
    "df = df.loc[df.Ref.str.startswith(\"[\")]\n",
    "df.head()"
   ]
  },
  {
   "cell_type": "markdown",
   "metadata": {
    "slideshow": {
     "slide_type": "subslide"
    }
   },
   "source": [
    "#### Slipt column values into two separate columns"
   ]
  },
  {
   "cell_type": "code",
   "execution_count": 7,
   "metadata": {
    "scrolled": false,
    "slideshow": {
     "slide_type": "fragment"
    }
   },
   "outputs": [
    {
     "data": {
      "text/html": [
       "<div>\n",
       "<style scoped>\n",
       "    .dataframe tbody tr th:only-of-type {\n",
       "        vertical-align: middle;\n",
       "    }\n",
       "\n",
       "    .dataframe tbody tr th {\n",
       "        vertical-align: top;\n",
       "    }\n",
       "\n",
       "    .dataframe thead th {\n",
       "        text-align: right;\n",
       "    }\n",
       "</style>\n",
       "<table border=\"1\" class=\"dataframe\">\n",
       "  <thead>\n",
       "    <tr style=\"text-align: right;\">\n",
       "      <th></th>\n",
       "      <th>City</th>\n",
       "      <th>Building</th>\n",
       "      <th>Start Date</th>\n",
       "      <th>End Date</th>\n",
       "      <th>Duration</th>\n",
       "      <th>Ref</th>\n",
       "      <th>State</th>\n",
       "    </tr>\n",
       "  </thead>\n",
       "  <tbody>\n",
       "    <tr>\n",
       "      <th>0</th>\n",
       "      <td>Albany</td>\n",
       "      <td>Stadt Huys</td>\n",
       "      <td>June 19, 1754</td>\n",
       "      <td>July 11, 1754</td>\n",
       "      <td>22 days</td>\n",
       "      <td>[8]</td>\n",
       "      <td>New York</td>\n",
       "    </tr>\n",
       "    <tr>\n",
       "      <th>2</th>\n",
       "      <td>New York</td>\n",
       "      <td>City Hall</td>\n",
       "      <td>October 7, 1765</td>\n",
       "      <td>October 25, 1765</td>\n",
       "      <td>23 days</td>\n",
       "      <td>[9]</td>\n",
       "      <td>New York</td>\n",
       "    </tr>\n",
       "    <tr>\n",
       "      <th>4</th>\n",
       "      <td>Philadelphia</td>\n",
       "      <td>Carpenters' Hall</td>\n",
       "      <td>September 5, 1774</td>\n",
       "      <td>October 26, 1774</td>\n",
       "      <td>1 month and 21 days</td>\n",
       "      <td>[10]</td>\n",
       "      <td>Pennsylvania</td>\n",
       "    </tr>\n",
       "    <tr>\n",
       "      <th>6</th>\n",
       "      <td>Philadelphia</td>\n",
       "      <td>Independence Hall</td>\n",
       "      <td>May 10, 1775</td>\n",
       "      <td>December 12, 1776</td>\n",
       "      <td>1 year, 7 months and 2 days</td>\n",
       "      <td>[11]</td>\n",
       "      <td>Pennsylvania</td>\n",
       "    </tr>\n",
       "    <tr>\n",
       "      <th>7</th>\n",
       "      <td>Baltimore</td>\n",
       "      <td>Henry Fite House</td>\n",
       "      <td>December 20, 1776</td>\n",
       "      <td>February 27, 1777</td>\n",
       "      <td>2 months and 7 days</td>\n",
       "      <td>[12]</td>\n",
       "      <td>Maryland</td>\n",
       "    </tr>\n",
       "  </tbody>\n",
       "</table>\n",
       "</div>"
      ],
      "text/plain": [
       "           City           Building         Start Date           End Date  \\\n",
       "0        Albany         Stadt Huys      June 19, 1754      July 11, 1754   \n",
       "2      New York          City Hall    October 7, 1765   October 25, 1765   \n",
       "4  Philadelphia   Carpenters' Hall  September 5, 1774   October 26, 1774   \n",
       "6  Philadelphia  Independence Hall       May 10, 1775  December 12, 1776   \n",
       "7     Baltimore   Henry Fite House  December 20, 1776  February 27, 1777   \n",
       "\n",
       "                      Duration   Ref         State  \n",
       "0                      22 days   [8]      New York  \n",
       "2                      23 days   [9]      New York  \n",
       "4          1 month and 21 days  [10]  Pennsylvania  \n",
       "6  1 year, 7 months and 2 days  [11]  Pennsylvania  \n",
       "7          2 months and 7 days  [12]      Maryland  "
      ]
     },
     "execution_count": 7,
     "metadata": {},
     "output_type": "execute_result"
    }
   ],
   "source": [
    "columnsplit = df['City'].str.split(\", \", expand=True)\n",
    "df = df.assign(City=columnsplit[0],State=columnsplit[1])\n",
    "df.head()"
   ]
  },
  {
   "cell_type": "markdown",
   "metadata": {
    "slideshow": {
     "slide_type": "subslide"
    }
   },
   "source": [
    "#### Drop a column"
   ]
  },
  {
   "cell_type": "code",
   "execution_count": 8,
   "metadata": {},
   "outputs": [
    {
     "data": {
      "text/html": [
       "<div>\n",
       "<style scoped>\n",
       "    .dataframe tbody tr th:only-of-type {\n",
       "        vertical-align: middle;\n",
       "    }\n",
       "\n",
       "    .dataframe tbody tr th {\n",
       "        vertical-align: top;\n",
       "    }\n",
       "\n",
       "    .dataframe thead th {\n",
       "        text-align: right;\n",
       "    }\n",
       "</style>\n",
       "<table border=\"1\" class=\"dataframe\">\n",
       "  <thead>\n",
       "    <tr style=\"text-align: right;\">\n",
       "      <th></th>\n",
       "      <th>City</th>\n",
       "      <th>Building</th>\n",
       "      <th>Start Date</th>\n",
       "      <th>End Date</th>\n",
       "      <th>Duration</th>\n",
       "      <th>State</th>\n",
       "    </tr>\n",
       "  </thead>\n",
       "  <tbody>\n",
       "    <tr>\n",
       "      <th>0</th>\n",
       "      <td>Albany</td>\n",
       "      <td>Stadt Huys</td>\n",
       "      <td>June 19, 1754</td>\n",
       "      <td>July 11, 1754</td>\n",
       "      <td>22 days</td>\n",
       "      <td>New York</td>\n",
       "    </tr>\n",
       "    <tr>\n",
       "      <th>2</th>\n",
       "      <td>New York</td>\n",
       "      <td>City Hall</td>\n",
       "      <td>October 7, 1765</td>\n",
       "      <td>October 25, 1765</td>\n",
       "      <td>23 days</td>\n",
       "      <td>New York</td>\n",
       "    </tr>\n",
       "    <tr>\n",
       "      <th>4</th>\n",
       "      <td>Philadelphia</td>\n",
       "      <td>Carpenters' Hall</td>\n",
       "      <td>September 5, 1774</td>\n",
       "      <td>October 26, 1774</td>\n",
       "      <td>1 month and 21 days</td>\n",
       "      <td>Pennsylvania</td>\n",
       "    </tr>\n",
       "    <tr>\n",
       "      <th>6</th>\n",
       "      <td>Philadelphia</td>\n",
       "      <td>Independence Hall</td>\n",
       "      <td>May 10, 1775</td>\n",
       "      <td>December 12, 1776</td>\n",
       "      <td>1 year, 7 months and 2 days</td>\n",
       "      <td>Pennsylvania</td>\n",
       "    </tr>\n",
       "    <tr>\n",
       "      <th>7</th>\n",
       "      <td>Baltimore</td>\n",
       "      <td>Henry Fite House</td>\n",
       "      <td>December 20, 1776</td>\n",
       "      <td>February 27, 1777</td>\n",
       "      <td>2 months and 7 days</td>\n",
       "      <td>Maryland</td>\n",
       "    </tr>\n",
       "  </tbody>\n",
       "</table>\n",
       "</div>"
      ],
      "text/plain": [
       "           City           Building         Start Date           End Date  \\\n",
       "0        Albany         Stadt Huys      June 19, 1754      July 11, 1754   \n",
       "2      New York          City Hall    October 7, 1765   October 25, 1765   \n",
       "4  Philadelphia   Carpenters' Hall  September 5, 1774   October 26, 1774   \n",
       "6  Philadelphia  Independence Hall       May 10, 1775  December 12, 1776   \n",
       "7     Baltimore   Henry Fite House  December 20, 1776  February 27, 1777   \n",
       "\n",
       "                      Duration         State  \n",
       "0                      22 days      New York  \n",
       "2                      23 days      New York  \n",
       "4          1 month and 21 days  Pennsylvania  \n",
       "6  1 year, 7 months and 2 days  Pennsylvania  \n",
       "7          2 months and 7 days      Maryland  "
      ]
     },
     "execution_count": 8,
     "metadata": {},
     "output_type": "execute_result"
    }
   ],
   "source": [
    "df = df.drop(['Ref'], axis=1)\n",
    "df.head()"
   ]
  },
  {
   "cell_type": "markdown",
   "metadata": {},
   "source": [
    "#### Reset an index"
   ]
  },
  {
   "cell_type": "code",
   "execution_count": 9,
   "metadata": {},
   "outputs": [
    {
     "data": {
      "text/html": [
       "<div>\n",
       "<style scoped>\n",
       "    .dataframe tbody tr th:only-of-type {\n",
       "        vertical-align: middle;\n",
       "    }\n",
       "\n",
       "    .dataframe tbody tr th {\n",
       "        vertical-align: top;\n",
       "    }\n",
       "\n",
       "    .dataframe thead th {\n",
       "        text-align: right;\n",
       "    }\n",
       "</style>\n",
       "<table border=\"1\" class=\"dataframe\">\n",
       "  <thead>\n",
       "    <tr style=\"text-align: right;\">\n",
       "      <th></th>\n",
       "      <th>City</th>\n",
       "      <th>Building</th>\n",
       "      <th>Start Date</th>\n",
       "      <th>End Date</th>\n",
       "      <th>Duration</th>\n",
       "      <th>State</th>\n",
       "    </tr>\n",
       "  </thead>\n",
       "  <tbody>\n",
       "    <tr>\n",
       "      <th>0</th>\n",
       "      <td>Albany</td>\n",
       "      <td>Stadt Huys</td>\n",
       "      <td>June 19, 1754</td>\n",
       "      <td>July 11, 1754</td>\n",
       "      <td>22 days</td>\n",
       "      <td>New York</td>\n",
       "    </tr>\n",
       "    <tr>\n",
       "      <th>1</th>\n",
       "      <td>New York</td>\n",
       "      <td>City Hall</td>\n",
       "      <td>October 7, 1765</td>\n",
       "      <td>October 25, 1765</td>\n",
       "      <td>23 days</td>\n",
       "      <td>New York</td>\n",
       "    </tr>\n",
       "    <tr>\n",
       "      <th>2</th>\n",
       "      <td>Philadelphia</td>\n",
       "      <td>Carpenters' Hall</td>\n",
       "      <td>September 5, 1774</td>\n",
       "      <td>October 26, 1774</td>\n",
       "      <td>1 month and 21 days</td>\n",
       "      <td>Pennsylvania</td>\n",
       "    </tr>\n",
       "    <tr>\n",
       "      <th>3</th>\n",
       "      <td>Philadelphia</td>\n",
       "      <td>Independence Hall</td>\n",
       "      <td>May 10, 1775</td>\n",
       "      <td>December 12, 1776</td>\n",
       "      <td>1 year, 7 months and 2 days</td>\n",
       "      <td>Pennsylvania</td>\n",
       "    </tr>\n",
       "    <tr>\n",
       "      <th>4</th>\n",
       "      <td>Baltimore</td>\n",
       "      <td>Henry Fite House</td>\n",
       "      <td>December 20, 1776</td>\n",
       "      <td>February 27, 1777</td>\n",
       "      <td>2 months and 7 days</td>\n",
       "      <td>Maryland</td>\n",
       "    </tr>\n",
       "  </tbody>\n",
       "</table>\n",
       "</div>"
      ],
      "text/plain": [
       "           City           Building         Start Date           End Date  \\\n",
       "0        Albany         Stadt Huys      June 19, 1754      July 11, 1754   \n",
       "1      New York          City Hall    October 7, 1765   October 25, 1765   \n",
       "2  Philadelphia   Carpenters' Hall  September 5, 1774   October 26, 1774   \n",
       "3  Philadelphia  Independence Hall       May 10, 1775  December 12, 1776   \n",
       "4     Baltimore   Henry Fite House  December 20, 1776  February 27, 1777   \n",
       "\n",
       "                      Duration         State  \n",
       "0                      22 days      New York  \n",
       "1                      23 days      New York  \n",
       "2          1 month and 21 days  Pennsylvania  \n",
       "3  1 year, 7 months and 2 days  Pennsylvania  \n",
       "4          2 months and 7 days      Maryland  "
      ]
     },
     "execution_count": 9,
     "metadata": {},
     "output_type": "execute_result"
    }
   ],
   "source": [
    "df = df.reset_index(drop=True)\n",
    "df.head()"
   ]
  },
  {
   "cell_type": "code",
   "execution_count": 10,
   "metadata": {},
   "outputs": [
    {
     "data": {
      "text/html": [
       "<div>\n",
       "<style scoped>\n",
       "    .dataframe tbody tr th:only-of-type {\n",
       "        vertical-align: middle;\n",
       "    }\n",
       "\n",
       "    .dataframe tbody tr th {\n",
       "        vertical-align: top;\n",
       "    }\n",
       "\n",
       "    .dataframe thead th {\n",
       "        text-align: right;\n",
       "    }\n",
       "</style>\n",
       "<table border=\"1\" class=\"dataframe\">\n",
       "  <thead>\n",
       "    <tr style=\"text-align: right;\">\n",
       "      <th></th>\n",
       "      <th>City</th>\n",
       "      <th>Building</th>\n",
       "      <th>Start Date</th>\n",
       "      <th>End Date</th>\n",
       "      <th>Duration</th>\n",
       "      <th>State</th>\n",
       "    </tr>\n",
       "  </thead>\n",
       "  <tbody>\n",
       "    <tr>\n",
       "      <th>0</th>\n",
       "      <td>Albany</td>\n",
       "      <td>Stadt Huys</td>\n",
       "      <td>June 19, 1754</td>\n",
       "      <td>July 11, 1754</td>\n",
       "      <td>22 days</td>\n",
       "      <td>New York</td>\n",
       "    </tr>\n",
       "    <tr>\n",
       "      <th>1</th>\n",
       "      <td>New York</td>\n",
       "      <td>City Hall</td>\n",
       "      <td>October 7, 1765</td>\n",
       "      <td>October 25, 1765</td>\n",
       "      <td>23 days</td>\n",
       "      <td>New York</td>\n",
       "    </tr>\n",
       "    <tr>\n",
       "      <th>13</th>\n",
       "      <td>New York</td>\n",
       "      <td>City Hall</td>\n",
       "      <td>January 11, 1785</td>\n",
       "      <td>October 6, 1788</td>\n",
       "      <td>3 years, 11 months and 5 days</td>\n",
       "      <td>New York</td>\n",
       "    </tr>\n",
       "    <tr>\n",
       "      <th>14</th>\n",
       "      <td>New York</td>\n",
       "      <td>Federal Hall</td>\n",
       "      <td>March 4, 1789</td>\n",
       "      <td>December 5, 1790</td>\n",
       "      <td>1 year, 9 months and 1 day</td>\n",
       "      <td>New York</td>\n",
       "    </tr>\n",
       "  </tbody>\n",
       "</table>\n",
       "</div>"
      ],
      "text/plain": [
       "        City      Building        Start Date          End Date  \\\n",
       "0     Albany    Stadt Huys     June 19, 1754     July 11, 1754   \n",
       "1   New York     City Hall   October 7, 1765  October 25, 1765   \n",
       "13  New York     City Hall  January 11, 1785   October 6, 1788   \n",
       "14  New York  Federal Hall     March 4, 1789  December 5, 1790   \n",
       "\n",
       "                         Duration     State  \n",
       "0                         22 days  New York  \n",
       "1                         23 days  New York  \n",
       "13  3 years, 11 months and 5 days  New York  \n",
       "14     1 year, 9 months and 1 day  New York  "
      ]
     },
     "execution_count": 10,
     "metadata": {},
     "output_type": "execute_result"
    }
   ],
   "source": [
    "df.loc[df.State==\"New York\"]"
   ]
  },
  {
   "cell_type": "markdown",
   "metadata": {
    "slideshow": {
     "slide_type": "slide"
    }
   },
   "source": [
    "## DataFrames as HTML"
   ]
  },
  {
   "cell_type": "markdown",
   "metadata": {
    "slideshow": {
     "slide_type": "subslide"
    }
   },
   "source": [
    "#### Pandas also had a `to_html` method that we can use to generate HTML tables from DataFrames."
   ]
  },
  {
   "cell_type": "code",
   "execution_count": 11,
   "metadata": {
    "scrolled": true,
    "slideshow": {
     "slide_type": "fragment"
    }
   },
   "outputs": [
    {
     "data": {
      "text/plain": [
       "'<table border=\"1\" class=\"dataframe\">\\n  <thead>\\n    <tr style=\"text-align: right;\">\\n      <th></th>\\n      <th>City</th>\\n      <th>Building</th>\\n      <th>Start Date</th>\\n      <th>End Date</th>\\n      <th>Duration</th>\\n      <th>State</th>\\n    </tr>\\n  </thead>\\n  <tbody>\\n    <tr>\\n      <th>0</th>\\n      <td>Albany</td>\\n      <td>Stadt Huys</td>\\n      <td>June 19, 1754</td>\\n      <td>July 11, 1754</td>\\n      <td>22\\xa0days</td>\\n      <td>New York</td>\\n    </tr>\\n    <tr>\\n      <th>1</th>\\n      <td>New York</td>\\n      <td>City Hall</td>\\n      <td>October 7, 1765</td>\\n      <td>October 25, 1765</td>\\n      <td>23\\xa0days</td>\\n      <td>New York</td>\\n    </tr>\\n    <tr>\\n      <th>2</th>\\n      <td>Philadelphia</td>\\n      <td>Carpenters\\' Hall</td>\\n      <td>September 5, 1774</td>\\n      <td>October 26, 1774</td>\\n      <td>1\\xa0month and 21\\xa0days</td>\\n      <td>Pennsylvania</td>\\n    </tr>\\n    <tr>\\n      <th>3</th>\\n      <td>Philadelphia</td>\\n      <td>Independence Hall</td>\\n      <td>May 10, 1775</td>\\n      <td>December 12, 1776</td>\\n      <td>1\\xa0year, 7\\xa0months and 2\\xa0days</td>\\n      <td>Pennsylvania</td>\\n    </tr>\\n    <tr>\\n      <th>4</th>\\n      <td>Baltimore</td>\\n      <td>Henry Fite House</td>\\n      <td>December 20, 1776</td>\\n      <td>February 27, 1777</td>\\n      <td>2\\xa0months and 7\\xa0days</td>\\n      <td>Maryland</td>\\n    </tr>\\n    <tr>\\n      <th>5</th>\\n      <td>Philadelphia</td>\\n      <td>Independence Hall</td>\\n      <td>March 5, 1777</td>\\n      <td>September 18, 1777</td>\\n      <td>6\\xa0months and 13\\xa0days</td>\\n      <td>Pennsylvania</td>\\n    </tr>\\n    <tr>\\n      <th>6</th>\\n      <td>Lancaster</td>\\n      <td>Court House</td>\\n      <td>September 27, 1777</td>\\n      <td>September 27, 1777</td>\\n      <td>1\\xa0day</td>\\n      <td>Pennsylvania</td>\\n    </tr>\\n    <tr>\\n      <th>7</th>\\n      <td>York</td>\\n      <td>Court House</td>\\n      <td>September 30, 1777</td>\\n      <td>June 27, 1778</td>\\n      <td>8\\xa0months and 28\\xa0days</td>\\n      <td>Pennsylvania</td>\\n    </tr>\\n    <tr>\\n      <th>8</th>\\n      <td>Philadelphia</td>\\n      <td>College Hall</td>\\n      <td>July 2, 1778</td>\\n      <td>March 1, 1781</td>\\n      <td>2\\xa0years, 7\\xa0months and 27\\xa0days</td>\\n      <td>Pennsylvania</td>\\n    </tr>\\n    <tr>\\n      <th>9</th>\\n      <td>Philadelphia</td>\\n      <td>Independence Hall</td>\\n      <td>March 2, 1781</td>\\n      <td>June 21, 1783</td>\\n      <td>2\\xa0years, 3\\xa0months and 19\\xa0days</td>\\n      <td>Pennsylvania</td>\\n    </tr>\\n    <tr>\\n      <th>10</th>\\n      <td>Princeton</td>\\n      <td>Nassau Hall</td>\\n      <td>June 30, 1783</td>\\n      <td>November 4, 1783</td>\\n      <td>4\\xa0months and 5\\xa0days</td>\\n      <td>New Jersey</td>\\n    </tr>\\n    <tr>\\n      <th>11</th>\\n      <td>Annapolis</td>\\n      <td>Maryland State House</td>\\n      <td>November 26, 1783</td>\\n      <td>August 19, 1784</td>\\n      <td>8\\xa0months and 24\\xa0days</td>\\n      <td>Maryland</td>\\n    </tr>\\n    <tr>\\n      <th>12</th>\\n      <td>Trenton</td>\\n      <td>French Arms Tavern</td>\\n      <td>November 1, 1784</td>\\n      <td>December 24, 1784</td>\\n      <td>1\\xa0month and 23\\xa0days</td>\\n      <td>New Jersey</td>\\n    </tr>\\n    <tr>\\n      <th>13</th>\\n      <td>New York</td>\\n      <td>City Hall</td>\\n      <td>January 11, 1785</td>\\n      <td>October 6, 1788</td>\\n      <td>3\\xa0years, 11\\xa0months and 5\\xa0days</td>\\n      <td>New York</td>\\n    </tr>\\n    <tr>\\n      <th>14</th>\\n      <td>New York</td>\\n      <td>Federal Hall</td>\\n      <td>March 4, 1789</td>\\n      <td>December 5, 1790</td>\\n      <td>1\\xa0year, 9\\xa0months and 1\\xa0day</td>\\n      <td>New York</td>\\n    </tr>\\n    <tr>\\n      <th>15</th>\\n      <td>Philadelphia</td>\\n      <td>Congress Hall</td>\\n      <td>December 6, 1790</td>\\n      <td>May 14, 1800</td>\\n      <td>9\\xa0years, 5\\xa0months and 8\\xa0days</td>\\n      <td>Pennsylvania</td>\\n    </tr>\\n    <tr>\\n      <th>16</th>\\n      <td>District of Columbia</td>\\n      <td>United States Capitol</td>\\n      <td>November 17, 1800</td>\\n      <td>August 24, 1814</td>\\n      <td>13\\xa0years, 9\\xa0months and 7\\xa0days</td>\\n      <td>None</td>\\n    </tr>\\n    <tr>\\n      <th>17</th>\\n      <td>Washington</td>\\n      <td>Blodgett\\'s Hotel</td>\\n      <td>September 19, 1814</td>\\n      <td>December 7, 1815</td>\\n      <td>1\\xa0year, 2\\xa0months and 18\\xa0days</td>\\n      <td>D.C.</td>\\n    </tr>\\n    <tr>\\n      <th>18</th>\\n      <td>Washington</td>\\n      <td>Old Brick Capitol</td>\\n      <td>December 4, 1815</td>\\n      <td>March 3, 1819</td>\\n      <td>3\\xa0years, 2\\xa0months and 27\\xa0days</td>\\n      <td>D.C.</td>\\n    </tr>\\n    <tr>\\n      <th>19</th>\\n      <td>Washington</td>\\n      <td>United States Capitol</td>\\n      <td>March 4, 1819</td>\\n      <td>present</td>\\n      <td>201\\xa0years, 5\\xa0months and 14\\xa0days</td>\\n      <td>D.C.</td>\\n    </tr>\\n  </tbody>\\n</table>'"
      ]
     },
     "execution_count": 11,
     "metadata": {},
     "output_type": "execute_result"
    }
   ],
   "source": [
    "html_table = df.to_html()\n",
    "html_table"
   ]
  },
  {
   "cell_type": "markdown",
   "metadata": {
    "slideshow": {
     "slide_type": "subslide"
    }
   },
   "source": [
    "#### You may have to strip unwanted newlines to clean up the table."
   ]
  },
  {
   "cell_type": "code",
   "execution_count": 12,
   "metadata": {
    "scrolled": true,
    "slideshow": {
     "slide_type": "fragment"
    }
   },
   "outputs": [
    {
     "data": {
      "text/plain": [
       "'<table border=\"1\" class=\"dataframe\">  <thead>    <tr style=\"text-align: right;\">      <th></th>      <th>City</th>      <th>Building</th>      <th>Start Date</th>      <th>End Date</th>      <th>Duration</th>      <th>State</th>    </tr>  </thead>  <tbody>    <tr>      <th>0</th>      <td>Albany</td>      <td>Stadt Huys</td>      <td>June 19, 1754</td>      <td>July 11, 1754</td>      <td>22\\xa0days</td>      <td>New York</td>    </tr>    <tr>      <th>1</th>      <td>New York</td>      <td>City Hall</td>      <td>October 7, 1765</td>      <td>October 25, 1765</td>      <td>23\\xa0days</td>      <td>New York</td>    </tr>    <tr>      <th>2</th>      <td>Philadelphia</td>      <td>Carpenters\\' Hall</td>      <td>September 5, 1774</td>      <td>October 26, 1774</td>      <td>1\\xa0month and 21\\xa0days</td>      <td>Pennsylvania</td>    </tr>    <tr>      <th>3</th>      <td>Philadelphia</td>      <td>Independence Hall</td>      <td>May 10, 1775</td>      <td>December 12, 1776</td>      <td>1\\xa0year, 7\\xa0months and 2\\xa0days</td>      <td>Pennsylvania</td>    </tr>    <tr>      <th>4</th>      <td>Baltimore</td>      <td>Henry Fite House</td>      <td>December 20, 1776</td>      <td>February 27, 1777</td>      <td>2\\xa0months and 7\\xa0days</td>      <td>Maryland</td>    </tr>    <tr>      <th>5</th>      <td>Philadelphia</td>      <td>Independence Hall</td>      <td>March 5, 1777</td>      <td>September 18, 1777</td>      <td>6\\xa0months and 13\\xa0days</td>      <td>Pennsylvania</td>    </tr>    <tr>      <th>6</th>      <td>Lancaster</td>      <td>Court House</td>      <td>September 27, 1777</td>      <td>September 27, 1777</td>      <td>1\\xa0day</td>      <td>Pennsylvania</td>    </tr>    <tr>      <th>7</th>      <td>York</td>      <td>Court House</td>      <td>September 30, 1777</td>      <td>June 27, 1778</td>      <td>8\\xa0months and 28\\xa0days</td>      <td>Pennsylvania</td>    </tr>    <tr>      <th>8</th>      <td>Philadelphia</td>      <td>College Hall</td>      <td>July 2, 1778</td>      <td>March 1, 1781</td>      <td>2\\xa0years, 7\\xa0months and 27\\xa0days</td>      <td>Pennsylvania</td>    </tr>    <tr>      <th>9</th>      <td>Philadelphia</td>      <td>Independence Hall</td>      <td>March 2, 1781</td>      <td>June 21, 1783</td>      <td>2\\xa0years, 3\\xa0months and 19\\xa0days</td>      <td>Pennsylvania</td>    </tr>    <tr>      <th>10</th>      <td>Princeton</td>      <td>Nassau Hall</td>      <td>June 30, 1783</td>      <td>November 4, 1783</td>      <td>4\\xa0months and 5\\xa0days</td>      <td>New Jersey</td>    </tr>    <tr>      <th>11</th>      <td>Annapolis</td>      <td>Maryland State House</td>      <td>November 26, 1783</td>      <td>August 19, 1784</td>      <td>8\\xa0months and 24\\xa0days</td>      <td>Maryland</td>    </tr>    <tr>      <th>12</th>      <td>Trenton</td>      <td>French Arms Tavern</td>      <td>November 1, 1784</td>      <td>December 24, 1784</td>      <td>1\\xa0month and 23\\xa0days</td>      <td>New Jersey</td>    </tr>    <tr>      <th>13</th>      <td>New York</td>      <td>City Hall</td>      <td>January 11, 1785</td>      <td>October 6, 1788</td>      <td>3\\xa0years, 11\\xa0months and 5\\xa0days</td>      <td>New York</td>    </tr>    <tr>      <th>14</th>      <td>New York</td>      <td>Federal Hall</td>      <td>March 4, 1789</td>      <td>December 5, 1790</td>      <td>1\\xa0year, 9\\xa0months and 1\\xa0day</td>      <td>New York</td>    </tr>    <tr>      <th>15</th>      <td>Philadelphia</td>      <td>Congress Hall</td>      <td>December 6, 1790</td>      <td>May 14, 1800</td>      <td>9\\xa0years, 5\\xa0months and 8\\xa0days</td>      <td>Pennsylvania</td>    </tr>    <tr>      <th>16</th>      <td>District of Columbia</td>      <td>United States Capitol</td>      <td>November 17, 1800</td>      <td>August 24, 1814</td>      <td>13\\xa0years, 9\\xa0months and 7\\xa0days</td>      <td>None</td>    </tr>    <tr>      <th>17</th>      <td>Washington</td>      <td>Blodgett\\'s Hotel</td>      <td>September 19, 1814</td>      <td>December 7, 1815</td>      <td>1\\xa0year, 2\\xa0months and 18\\xa0days</td>      <td>D.C.</td>    </tr>    <tr>      <th>18</th>      <td>Washington</td>      <td>Old Brick Capitol</td>      <td>December 4, 1815</td>      <td>March 3, 1819</td>      <td>3\\xa0years, 2\\xa0months and 27\\xa0days</td>      <td>D.C.</td>    </tr>    <tr>      <th>19</th>      <td>Washington</td>      <td>United States Capitol</td>      <td>March 4, 1819</td>      <td>present</td>      <td>201\\xa0years, 5\\xa0months and 14\\xa0days</td>      <td>D.C.</td>    </tr>  </tbody></table>'"
      ]
     },
     "execution_count": 12,
     "metadata": {},
     "output_type": "execute_result"
    }
   ],
   "source": [
    "html_table.replace('\\n', '')"
   ]
  },
  {
   "cell_type": "markdown",
   "metadata": {
    "slideshow": {
     "slide_type": "subslide"
    }
   },
   "source": [
    "You can also save the table directly to a file."
   ]
  },
  {
   "cell_type": "code",
   "execution_count": 13,
   "metadata": {
    "slideshow": {
     "slide_type": "fragment"
    }
   },
   "outputs": [],
   "source": [
    "df.to_html('table.html')"
   ]
  },
  {
   "cell_type": "code",
   "execution_count": 14,
   "metadata": {
    "slideshow": {
     "slide_type": "fragment"
    }
   },
   "outputs": [],
   "source": [
    "# OSX Users can run this to open the file in a browser, \n",
    "# or you can manually find the file and open it in the browser\n",
    "!open table.html"
   ]
  },
  {
   "cell_type": "code",
   "execution_count": null,
   "metadata": {},
   "outputs": [],
   "source": []
  }
 ],
 "metadata": {
  "kernelspec": {
   "display_name": "Python 3",
   "language": "python",
   "name": "python3"
  },
  "language_info": {
   "codemirror_mode": {
    "name": "ipython",
    "version": 3
   },
   "file_extension": ".py",
   "mimetype": "text/x-python",
   "name": "python",
   "nbconvert_exporter": "python",
   "pygments_lexer": "ipython3",
   "version": "3.7.1"
  },
  "varInspector": {
   "cols": {
    "lenName": 16,
    "lenType": 16,
    "lenVar": 40
   },
   "kernels_config": {
    "python": {
     "delete_cmd_postfix": "",
     "delete_cmd_prefix": "del ",
     "library": "var_list.py",
     "varRefreshCmd": "print(var_dic_list())"
    },
    "r": {
     "delete_cmd_postfix": ") ",
     "delete_cmd_prefix": "rm(",
     "library": "var_list.r",
     "varRefreshCmd": "cat(var_dic_list()) "
    }
   },
   "types_to_exclude": [
    "module",
    "function",
    "builtin_function_or_method",
    "instance",
    "_Feature"
   ],
   "window_display": false
  }
 },
 "nbformat": 4,
 "nbformat_minor": 2
}
